{
  "nbformat": 4,
  "nbformat_minor": 0,
  "metadata": {
    "colab": {
      "name": "Parser for OpeNDAP  (OCO-2 Satellite Data).ipynb",
      "provenance": []
    },
    "kernelspec": {
      "name": "python3",
      "display_name": "Python 3"
    },
    "language_info": {
      "name": "python"
    }
  },
  "cells": [
    {
      "cell_type": "code",
      "execution_count": null,
      "metadata": {
        "id": "zD9ky8MG0y8q"
      },
      "outputs": [],
      "source": [
        "! pip install pydap"
      ]
    },
    {
      "cell_type": "code",
      "source": [
        "! pip install selenium "
      ],
      "metadata": {
        "id": "pfRBr5Je1Sm_"
      },
      "execution_count": null,
      "outputs": []
    },
    {
      "cell_type": "code",
      "source": [
        "!apt-get update # to update ubuntu to correctly run apt install\n",
        "!apt install chromium-chromedriver\n",
        "!cp /usr/lib/chromium-browser/chromedriver /usr/bin\n",
        "import sys\n",
        "sys.path.insert(0,'/usr/lib/chromium-browser/chromedriver')\n",
        "from selenium import webdriver\n",
        "options = webdriver.ChromeOptions()\n",
        "options.add_argument('--headless')\n",
        "options.add_argument('--no-sandbox')\n",
        "options.add_argument('--disable-dev-shm-usage')"
      ],
      "metadata": {
        "id": "XYoC9Q2o2nys"
      },
      "execution_count": null,
      "outputs": []
    },
    {
      "cell_type": "code",
      "source": [
        "import requests\n",
        "from bs4 import BeautifulSoup\n",
        "import os\n",
        "from selenium import webdriver\n",
        "import json\n",
        "from pydap.client import open_url\n",
        "from pydap.cas.urs import setup_session\n",
        "from pathlib import Path  \n",
        "import pandas as pd\n",
        "import numpy as np"
      ],
      "metadata": {
        "id": "8kINM3rz1PVA"
      },
      "execution_count": 5,
      "outputs": []
    },
    {
      "cell_type": "code",
      "source": [
        "def urls_papser(url):\n",
        "  for str_  in url.split('/'):\n",
        "        if str_.startswith('2'):\n",
        "          item = str_\n",
        "  return item\n",
        "\n",
        "\n",
        "def get_data(url):\n",
        "\n",
        "    headers = {\n",
        "        \"user-agent\": \"User-Agent: Mozilla/5.0 (Windows NT 10.0; Win64; x64) AppleWebKit/537.36 (KHTML, like Gecko) Chrome/100.0.4896.160 YaBrowser/22.5.4.904 Yowser/2.5 Safari/537.36\"\n",
        "    }\n",
        "    req = requests.get(url, headers)\n",
        "\n",
        "    with open('nasa.html', 'w') as file:\n",
        "      file.write(req.text)\n",
        "\n",
        "    with open('nasa.html') as file:\n",
        "      src  = file.read()\n",
        "    soup = BeautifulSoup(src, 'lxml')\n",
        "    tr_tag = soup.find_all('tr')\n",
        "\n",
        "    dir_urls = []\n",
        "\n",
        "    for tag in tr_tag:\n",
        "      try:\n",
        "        dir_url = 'https://oco2.gesdisc.eosdis.nasa.gov/opendap/OCO2_L2_Lite_FP.10r/' + tag.find('td').find('a').get('href')\n",
        "        dir_urls.append(dir_url)\n",
        "      except AttributeError:\n",
        "        continue\n",
        "\n",
        "    folder_name = None\n",
        "    for url in dir_urls:\n",
        "      item = urls_papser(url)\n",
        "      folder_name = f\"nasa_files/data_{item}\"\n",
        "\n",
        "      if os.path.exists(folder_name):\n",
        "          print(\"The folder already exists!\")\n",
        "      else:\n",
        "          os.mkdir(folder_name)\n",
        "\n",
        "      browser=webdriver.Chrome('chromedriver',options=options)\n",
        "      browser.get(url)\n",
        "\n",
        "      soup_=BeautifulSoup(browser.page_source, 'lxml')\n",
        "\n",
        "      url_ = None\n",
        "      for scripts in soup_.select(\"script[type='application/ld+json']\"):\n",
        "        url_ = json.loads(scripts.get_text(strip=True))['dataset']\n",
        "\n",
        "      \n",
        "\n",
        "      for i in range(len(url_)):\n",
        "        #print(url_[i]['sameAs'])\n",
        "\n",
        "        url = url_[i]['sameAs'][:-5]\n",
        "        session = setup_session(username=' YOUR USER NAME FROM EARTH DATA', password='YOUR PASSWORD EARTH DATA', check_url = url)\n",
        "        dataset = open_url(url, session=session)\n",
        "\n",
        "        requested_data_xco2 = dataset['xco2']\n",
        "        requested_data_time = dataset['time']\n",
        "        requested_data_latitude = dataset['latitude']\n",
        "        requested_data_longitude = dataset['longitude']\n",
        "\n",
        "\n",
        "        x_co2 = np.array(requested_data_xco2[:,:])\n",
        "        time = np.array(requested_data_time[:,:])\n",
        "        latitude = np.array(requested_data_latitude[:,:])\n",
        "        longitude = np.array(requested_data_longitude[:,:])\n",
        "\n",
        "        d = {'xco2': x_co2, 'time': time, 'latitude': latitude, 'longitude': longitude}\n",
        "        df = pd.DataFrame(data=d)\n",
        "\n",
        "        file_name = url_[i]['name']\n",
        "        path = f\"{folder_name}/{file_name}.csv\"\n",
        "        filepath = Path(path)  \n",
        "        filepath.parent.mkdir(parents=True, exist_ok=True)  \n",
        "        df.to_csv(filepath) "
      ],
      "metadata": {
        "id": "vNmendBi1q_B"
      },
      "execution_count": 16,
      "outputs": []
    },
    {
      "cell_type": "code",
      "source": [
        "url = 'https://oco2.gesdisc.eosdis.nasa.gov/opendap/OCO2_L2_Lite_FP.10r/contents.html'\n",
        "get_data(url)"
      ],
      "metadata": {
        "id": "hiLjlXEk2Ua2"
      },
      "execution_count": null,
      "outputs": []
    }
  ]
}
